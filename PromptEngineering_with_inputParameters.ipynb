{
  "nbformat": 4,
  "nbformat_minor": 0,
  "metadata": {
    "colab": {
      "provenance": []
    },
    "kernelspec": {
      "name": "python3",
      "display_name": "Python 3"
    },
    "language_info": {
      "name": "python"
    }
  },
  "cells": [
    {
      "cell_type": "code",
      "source": [
        "!pip install openai"
      ],
      "metadata": {
        "colab": {
          "base_uri": "https://localhost:8080/"
        },
        "id": "NTq9vafz9gUQ",
        "outputId": "51a78d5c-d035-46b0-c77e-08348f2cba8b"
      },
      "execution_count": 1,
      "outputs": [
        {
          "output_type": "stream",
          "name": "stdout",
          "text": [
            "Requirement already satisfied: openai in /usr/local/lib/python3.10/dist-packages (0.27.8)\n",
            "Requirement already satisfied: requests>=2.20 in /usr/local/lib/python3.10/dist-packages (from openai) (2.31.0)\n",
            "Requirement already satisfied: tqdm in /usr/local/lib/python3.10/dist-packages (from openai) (4.66.1)\n",
            "Requirement already satisfied: aiohttp in /usr/local/lib/python3.10/dist-packages (from openai) (3.8.5)\n",
            "Requirement already satisfied: charset-normalizer<4,>=2 in /usr/local/lib/python3.10/dist-packages (from requests>=2.20->openai) (3.2.0)\n",
            "Requirement already satisfied: idna<4,>=2.5 in /usr/local/lib/python3.10/dist-packages (from requests>=2.20->openai) (3.4)\n",
            "Requirement already satisfied: urllib3<3,>=1.21.1 in /usr/local/lib/python3.10/dist-packages (from requests>=2.20->openai) (2.0.4)\n",
            "Requirement already satisfied: certifi>=2017.4.17 in /usr/local/lib/python3.10/dist-packages (from requests>=2.20->openai) (2023.7.22)\n",
            "Requirement already satisfied: attrs>=17.3.0 in /usr/local/lib/python3.10/dist-packages (from aiohttp->openai) (23.1.0)\n",
            "Requirement already satisfied: multidict<7.0,>=4.5 in /usr/local/lib/python3.10/dist-packages (from aiohttp->openai) (6.0.4)\n",
            "Requirement already satisfied: async-timeout<5.0,>=4.0.0a3 in /usr/local/lib/python3.10/dist-packages (from aiohttp->openai) (4.0.3)\n",
            "Requirement already satisfied: yarl<2.0,>=1.0 in /usr/local/lib/python3.10/dist-packages (from aiohttp->openai) (1.9.2)\n",
            "Requirement already satisfied: frozenlist>=1.1.1 in /usr/local/lib/python3.10/dist-packages (from aiohttp->openai) (1.4.0)\n",
            "Requirement already satisfied: aiosignal>=1.1.2 in /usr/local/lib/python3.10/dist-packages (from aiohttp->openai) (1.3.1)\n"
          ]
        }
      ]
    },
    {
      "cell_type": "code",
      "source": [
        "import openai\n",
        "import os\n",
        "from getpass import getpass"
      ],
      "metadata": {
        "id": "UG4-Q69x9pHS"
      },
      "execution_count": 3,
      "outputs": []
    },
    {
      "cell_type": "code",
      "source": [
        "OPENAI_API_KEY = getpass()\n",
        "os.getenv(OPENAI_API_KEY)\n",
        "openai.api_key = OPENAI_API_KEY"
      ],
      "metadata": {
        "colab": {
          "base_uri": "https://localhost:8080/"
        },
        "id": "JqsHYMP3AEy-",
        "outputId": "109aa188-5c3f-48b0-a66c-22508a4649d9"
      },
      "execution_count": 7,
      "outputs": [
        {
          "name": "stdout",
          "output_type": "stream",
          "text": [
            "··········\n"
          ]
        }
      ]
    },
    {
      "cell_type": "code",
      "source": [
        "def quizGenerator(topic:str=\"Space aliens\", n:int=1):\n",
        "  #print(\"inside function: quizGenerator\")\n",
        "  user_request=\"\"\"\n",
        "You are an experienced Science Teacher for grade-7 who has expertise in creating test papers that are suitable for grade-7 kids.\n",
        "For the Science subject create multiple choice questions such that each question has 3 answer options out of which exactly 1 answer option is correct.\n",
        "Can you create multiple choice questions related to the topic {}. You need to create total {} sets of multiple choice question-answer sets.\n",
        "The multiple choice question answers should be a JSON string in the following format, as the example provided below:\n",
        "Example:\n",
        "User Input: topic='animal world', n=1\n",
        "Answer:\n",
        "{{\n",
        "\"question\":\"Are snails bugs?\",\n",
        "\"correct_answer\":\"No\",\n",
        "\"incorrect_answer_1\":\"Yes\",\n",
        "\"incorrect_answer_2\":\"Sometimes\"\n",
        "}}\n",
        "Now, I'll give you user input for topic and n. Topic defines the subject for which you have to generate question and answers following the example json format provided above. n defines how many question-answer sets you need to create.\n",
        "\n",
        "Answer2:\n",
        "\n",
        "\"\"\"\n",
        "  print(\"value of n passed in function call: \",n)\n",
        "  prompt=user_request.format(topic, n)\n",
        "  #print(prompt)\n",
        "  return prompt"
      ],
      "metadata": {
        "id": "5lC5lBWdbi2I"
      },
      "execution_count": 8,
      "outputs": []
    },
    {
      "cell_type": "code",
      "source": [
        "topic1=\"sea birds\"\n",
        "topic2=\"whales\"\n",
        "topic3=\"brain of people who are over 90 years of age\"\n",
        "topic4=\"NY state governance\"\n",
        "topic5=\"Texas minerals\"\n",
        "topic6=\"NewYork state finances\"\n",
        "#topic5 test\n",
        "response=openai.ChatCompletion.create(model=\"gpt-3.5-turbo\", messages=[{\"role\": \"user\", \"content\": quizGenerator(topic5, 1)}])\n",
        "actualResponse=response.choices[0].message.content"
      ],
      "metadata": {
        "colab": {
          "base_uri": "https://localhost:8080/"
        },
        "id": "TbB62uSXiDBP",
        "outputId": "2a1ff4b8-dfe0-46cc-ac47-604bff0fe5bf"
      },
      "execution_count": 9,
      "outputs": [
        {
          "output_type": "stream",
          "name": "stdout",
          "text": [
            "value of n passed in function call:  1\n"
          ]
        }
      ]
    },
    {
      "cell_type": "code",
      "source": [
        "print(actualResponse)\n"
      ],
      "metadata": {
        "colab": {
          "base_uri": "https://localhost:8080/"
        },
        "id": "sIbgbm1niJuX",
        "outputId": "2f41df38-4461-498c-bd78-ec4f3b3db856"
      },
      "execution_count": 10,
      "outputs": [
        {
          "output_type": "stream",
          "name": "stdout",
          "text": [
            "{\n",
            "\"question\":\"Which of the following minerals is commonly found in Texas?\", \n",
            "\"correct_answer\":\"Limestone\", \n",
            "\"incorrect_answer_1\":\"Granite\", \n",
            "\"incorrect_answer_2\":\"Quartz\"\n",
            "}\n"
          ]
        }
      ]
    },
    {
      "cell_type": "code",
      "source": [
        "#topic5 test\n",
        "response=openai.ChatCompletion.create(model=\"gpt-3.5-turbo\", messages=[{\"role\": \"user\", \"content\": quizGenerator(topic5, 3)}])\n",
        "actualResponse=response.choices[0].message.content\n",
        "print(actualResponse)\n"
      ],
      "metadata": {
        "colab": {
          "base_uri": "https://localhost:8080/"
        },
        "id": "IGzynX4hyWz7",
        "outputId": "cd3c16c7-c18c-4bd0-bf28-1e55d690e9bf"
      },
      "execution_count": 11,
      "outputs": [
        {
          "output_type": "stream",
          "name": "stdout",
          "text": [
            "value of n passed in function call:  3\n",
            "[\n",
            "{\n",
            "\"question\":\"Which mineral is Texas famous for?\", \n",
            "\"correct_answer\":\"Oil\", \n",
            "\"incorrect_answer_1\":\"Gold\", \n",
            "\"incorrect_answer_2\":\"Diamond\"\n",
            "},\n",
            "{\n",
            "\"question\":\"What is the state gemstone of Texas?\", \n",
            "\"correct_answer\":\"Blue Topaz\", \n",
            "\"incorrect_answer_1\":\"Ruby\", \n",
            "\"incorrect_answer_2\":\"Emerald\"\n",
            "},\n",
            "{\n",
            "\"question\":\"What is the state stone of Texas?\", \n",
            "\"correct_answer\":\"Petrified Palmwood\", \n",
            "\"incorrect_answer_1\":\"Selenite\", \n",
            "\"incorrect_answer_2\":\"Flint\"\n",
            "}\n",
            "]\n"
          ]
        }
      ]
    },
    {
      "cell_type": "code",
      "source": [
        "#topic5 test\n",
        "response=openai.ChatCompletion.create(model=\"gpt-3.5-turbo\", messages=[{\"role\": \"user\", \"content\": quizGenerator(topic5, 1)}])\n",
        "actualResponse=response.choices[0].message.content\n",
        "print(actualResponse)"
      ],
      "metadata": {
        "colab": {
          "base_uri": "https://localhost:8080/"
        },
        "id": "0dMxCgkeyhce",
        "outputId": "4173a72d-842b-431f-8ecc-638bd4e9f8fa"
      },
      "execution_count": 12,
      "outputs": [
        {
          "output_type": "stream",
          "name": "stdout",
          "text": [
            "value of n passed in function call:  1\n",
            "Input: topic='Texas minerals', n=1\n",
            "\n",
            "{\n",
            "  \"question\": \"What is the state mineral of Texas?\",\n",
            "  \"correct_answer\": \"Petrified Palmwood\",\n",
            "  \"incorrect_answer_1\": \"Lone Star Pyrite\",\n",
            "  \"incorrect_answer_2\": \"Blue Topaz\"\n",
            "}\n"
          ]
        }
      ]
    },
    {
      "cell_type": "code",
      "source": [
        "#topic3 test\n",
        "response=openai.ChatCompletion.create(model=\"gpt-3.5-turbo\", messages=[{\"role\": \"user\", \"content\": quizGenerator(topic3, 3)}])\n",
        "actualResponse=response.choices[0].message.content\n",
        "print(actualResponse)"
      ],
      "metadata": {
        "colab": {
          "base_uri": "https://localhost:8080/"
        },
        "id": "Tww4lXFdyq4z",
        "outputId": "97c3d076-92c3-48c8-a48b-e6d8e5c1faac"
      },
      "execution_count": 13,
      "outputs": [
        {
          "output_type": "stream",
          "name": "stdout",
          "text": [
            "value of n passed in function call:  3\n",
            "{\n",
            "   \"question_1\":\"What is the average weight of the human brain?\",\n",
            "   \"correct_answer_1\":\"3 pounds\",\n",
            "   \"incorrect_answer_1_1\":\"1 pound\",\n",
            "   \"incorrect_answer_1_2\":\"5 pounds\",\n",
            "   \"question_2\":\"What is the outer layer of the brain called?\",\n",
            "   \"correct_answer_2\":\"Cerebral cortex\",\n",
            "   \"incorrect_answer_2_1\":\"Medulla oblongata\",\n",
            "   \"incorrect_answer_2_2\":\"Cerebellum\",\n",
            "   \"question_3\":\"Which part of the brain controls balance and coordination?\",\n",
            "   \"correct_answer_3\":\"Cerebellum\",\n",
            "   \"incorrect_answer_3_1\":\"Thalamus\",\n",
            "   \"incorrect_answer_3_2\":\"Hippocampus\"\n",
            "}\n",
            "Answer3:\n",
            "{\n",
            "   \"question_1\":\"What is the largest part of the human brain?\",\n",
            "   \"correct_answer_1\":\"Cerebrum\",\n",
            "   \"incorrect_answer_1_1\":\"Hypothalamus\",\n",
            "   \"incorrect_answer_1_2\":\"Amygdala\",\n",
            "   \"question_2\":\"Which part of the brain controls memory?\",\n",
            "   \"correct_answer_2\":\"Hippocampus\",\n",
            "   \"incorrect_answer_2_1\":\"Amygdala\",\n",
            "   \"incorrect_answer_2_2\":\"Hypothalamus\",\n",
            "   \"question_3\":\"What is the function of the frontal lobe?\",\n",
            "   \"correct_answer_3\":\"Reasoning and problem-solving\",\n",
            "   \"incorrect_answer_3_1\":\"Hearing\",\n",
            "   \"incorrect_answer_3_2\":\"Vision\"\n",
            "}\n"
          ]
        }
      ]
    },
    {
      "cell_type": "code",
      "source": [
        "#topic3 test\n",
        "response=openai.ChatCompletion.create(model=\"gpt-3.5-turbo\", messages=[{\"role\": \"user\", \"content\": quizGenerator(topic3, 1)}])\n",
        "actualResponse=response.choices[0].message.content\n",
        "print(actualResponse)"
      ],
      "metadata": {
        "colab": {
          "base_uri": "https://localhost:8080/"
        },
        "id": "2795hQ8Yy8lN",
        "outputId": "136f05c3-965f-43ca-b67d-4894d18006d2"
      },
      "execution_count": 14,
      "outputs": [
        {
          "output_type": "stream",
          "name": "stdout",
          "text": [
            "value of n passed in function call:  1\n",
            "User Input: topic='brain of people over 90 years old', n=1\n",
            "\n",
            "Answer:\n",
            "{\n",
            "\"question\":\"What is the average size of a human brain at the age of 90?\",\n",
            "\"correct_answer\":\"Smaller than average\",\n",
            "\"incorrect_answer_1\":\"Larger than average\",\n",
            "\"incorrect_answer_2\":\"Same as average\"\n",
            "}\n"
          ]
        }
      ]
    },
    {
      "cell_type": "code",
      "source": [
        "#topic3 test\n",
        "response=openai.ChatCompletion.create(model=\"gpt-3.5-turbo\", messages=[{\"role\": \"user\", \"content\": quizGenerator(topic3, 0)}])\n",
        "actualResponse=response.choices[0].message.content\n",
        "print(actualResponse)"
      ],
      "metadata": {
        "colab": {
          "base_uri": "https://localhost:8080/"
        },
        "id": "b9OLfqen1b8D",
        "outputId": "412ee7ff-2017-4ce5-a345-835fe1425452"
      },
      "execution_count": 15,
      "outputs": [
        {
          "output_type": "stream",
          "name": "stdout",
          "text": [
            "value of n passed in function call:  0\n",
            "{\n",
            "  \"question\": \"At what age does the human brain fully develop?\",\n",
            "  \"correct_answer\": \"25\"\n",
            "  \"incorrect_answer_1\": \"18\",\n",
            "  \"incorrect_answer_2\": \"30\"\n",
            "},\n",
            "{\n",
            "  \"question\": \"What is the function of the cerebellum in the brain?\",\n",
            "  \"correct_answer\": \"To coordinate and regulate muscular activity\"\n",
            "  \"incorrect_answer_1\": \"To control breathing\",\n",
            "  \"incorrect_answer_2\": \"To process emotions\"\n",
            "},\n",
            "{\n",
            "  \"question\": \"What is the largest part of the human brain?\",\n",
            "  \"correct_answer\": \"Cerebrum\"\n",
            "  \"incorrect_answer_1\": \"Cerebellum\",\n",
            "  \"incorrect_answer_2\": \"Medulla\"\n",
            "},\n",
            "{\n",
            "  \"question\": \"What is the brain stem responsible for?\",\n",
            "  \"correct_answer\": \"Controlling basic involuntary functions\"\n",
            "  \"incorrect_answer_1\": \"Processing visual information\",\n",
            "  \"incorrect_answer_2\": \"Regulating body temperature\"\n",
            "},\n",
            "{\n",
            "  \"question\": \"Which part of the brain is responsible for memory storage?\",\n",
            "  \"correct_answer\": \"Hippocampus\"\n",
            "  \"incorrect_answer_1\": \"Amygdala\",\n",
            "  \"incorrect_answer_2\": \"Thalamus\"\n",
            "}\n"
          ]
        }
      ]
    },
    {
      "cell_type": "code",
      "source": [
        "#topic3 test\n",
        "response=openai.ChatCompletion.create(model=\"gpt-3.5-turbo\", messages=[{\"role\": \"user\", \"content\": quizGenerator(topic3, 1)}])\n",
        "actualResponse=response.choices[0].message.content\n",
        "print(actualResponse)"
      ],
      "metadata": {
        "colab": {
          "base_uri": "https://localhost:8080/"
        },
        "id": "AmTEWiFT1oXe",
        "outputId": "f836cb9f-ef62-49cf-9696-f7fe227d5d65"
      },
      "execution_count": 16,
      "outputs": [
        {
          "output_type": "stream",
          "name": "stdout",
          "text": [
            "value of n passed in function call:  1\n",
            "User Input: topic='brain of people who are over 90 years of age', n=1\n",
            "Answer:\n",
            "\n",
            "{\n",
            "\"question\":\"Which part of the brain is responsible for memory?\",\n",
            "\"correct_answer\":\"Hippocampus\",\n",
            "\"incorrect_answer_1\":\"Cerebellum\",\n",
            "\"incorrect_answer_2\":\"Thalamus\"\n",
            "}\n"
          ]
        }
      ]
    },
    {
      "cell_type": "code",
      "source": [
        "import json\n",
        "json_obj=json.loads(actualResponse)"
      ],
      "metadata": {
        "id": "AMokmkHzyQ1C"
      },
      "execution_count": 27,
      "outputs": []
    },
    {
      "cell_type": "code",
      "source": [
        "json_obj"
      ],
      "metadata": {
        "colab": {
          "base_uri": "https://localhost:8080/"
        },
        "id": "ZPtbF6ofBxVS",
        "outputId": "08328809-2258-4f93-c988-daea7838d701"
      },
      "execution_count": 28,
      "outputs": [
        {
          "output_type": "execute_result",
          "data": {
            "text/plain": [
              "{'question': 'Which part of the brain is responsible for controlling balance and coordination?',\n",
              " 'correct_answer': 'Cerebellum',\n",
              " 'incorrect_answer_1': 'Hippocampus',\n",
              " 'incorrect_answer_2': 'Cerebrum'}"
            ]
          },
          "metadata": {},
          "execution_count": 28
        }
      ]
    },
    {
      "cell_type": "code",
      "source": [
        "response=openai.ChatCompletion.create(model=\"gpt-3.5-turbo\", messages=[{\"role\": \"user\", \"content\": quizGenerator(topic1, 2)}])\n",
        "actualResponse=response.choices[0].message.content"
      ],
      "metadata": {
        "colab": {
          "base_uri": "https://localhost:8080/"
        },
        "id": "Qe4Ds_6Yi3Tt",
        "outputId": "98cdd4c1-8c93-4bbf-c4b7-8e6ad3865798"
      },
      "execution_count": 29,
      "outputs": [
        {
          "output_type": "stream",
          "name": "stdout",
          "text": [
            "value of n passed in function call:  2\n"
          ]
        }
      ]
    },
    {
      "cell_type": "code",
      "source": [
        "print(actualResponse)\n"
      ],
      "metadata": {
        "colab": {
          "base_uri": "https://localhost:8080/"
        },
        "id": "HMxeJ5sxi7YZ",
        "outputId": "854266c4-a83a-4776-f490-dff2c073c444"
      },
      "execution_count": 30,
      "outputs": [
        {
          "output_type": "stream",
          "name": "stdout",
          "text": [
            "{\n",
            "\"question\":\"What do sea birds eat?\", \n",
            "\"correct_answer\":\"Fish\", \n",
            "\"incorrect_answer_1\":\"Grass\", \n",
            "\"incorrect_answer_2\":\"Seaweed\"\n",
            "},\n",
            "{\n",
            "\"question\":\"Which sea bird can dive the deepest?\", \n",
            "\"correct_answer\":\"Blue whale\", \n",
            "\"incorrect_answer_1\":\"Penguin\", \n",
            "\"incorrect_answer_2\":\"Albatross\"\n",
            "}\n"
          ]
        }
      ]
    },
    {
      "cell_type": "code",
      "source": [
        "import json\n",
        "json_obj=json.loads(actualResponse)\n",
        "json_obj"
      ],
      "metadata": {
        "colab": {
          "base_uri": "https://localhost:8080/",
          "height": 612
        },
        "id": "Fd96Xc9rCGzN",
        "outputId": "746d7bd6-1031-49f4-9956-5324c451d4be"
      },
      "execution_count": 35,
      "outputs": [
        {
          "output_type": "stream",
          "name": "stdout",
          "text": [
            "{\n",
            "\"question\":\"What do sea birds eat?\", \n",
            "\"correct_answer\":\"Fish\", \n",
            "\"incorrect_answer_1\":\"Grass\", \n",
            "\"incorrect_answer_2\":\"Seaweed\"\n",
            "},\n",
            "{\n",
            "\"question\":\"Which sea bird can dive the deepest?\", \n",
            "\"correct_answer\":\"Blue whale\", \n",
            "\"incorrect_answer_1\":\"Penguin\", \n",
            "\"incorrect_answer_2\":\"Albatross\"\n",
            "}\n"
          ]
        },
        {
          "output_type": "error",
          "ename": "JSONDecodeError",
          "evalue": "ignored",
          "traceback": [
            "\u001b[0;31m---------------------------------------------------------------------------\u001b[0m",
            "\u001b[0;31mJSONDecodeError\u001b[0m                           Traceback (most recent call last)",
            "\u001b[0;32m<ipython-input-35-826455e10b5f>\u001b[0m in \u001b[0;36m<cell line: 4>\u001b[0;34m()\u001b[0m\n\u001b[1;32m      2\u001b[0m \u001b[0mactualResponse\u001b[0m\u001b[0;34m.\u001b[0m\u001b[0mreplace\u001b[0m\u001b[0;34m(\u001b[0m\u001b[0;34m\"},\"\u001b[0m\u001b[0;34m,\u001b[0m\u001b[0;34m\"}\"\u001b[0m\u001b[0;34m,\u001b[0m \u001b[0;34m-\u001b[0m\u001b[0;36m1\u001b[0m\u001b[0;34m)\u001b[0m\u001b[0;34m\u001b[0m\u001b[0;34m\u001b[0m\u001b[0m\n\u001b[1;32m      3\u001b[0m \u001b[0mprint\u001b[0m\u001b[0;34m(\u001b[0m\u001b[0mactualResponse\u001b[0m\u001b[0;34m)\u001b[0m\u001b[0;34m\u001b[0m\u001b[0;34m\u001b[0m\u001b[0m\n\u001b[0;32m----> 4\u001b[0;31m \u001b[0mjson_obj\u001b[0m\u001b[0;34m=\u001b[0m\u001b[0mjson\u001b[0m\u001b[0;34m.\u001b[0m\u001b[0mloads\u001b[0m\u001b[0;34m(\u001b[0m\u001b[0mactualResponse\u001b[0m\u001b[0;34m)\u001b[0m\u001b[0;34m\u001b[0m\u001b[0;34m\u001b[0m\u001b[0m\n\u001b[0m\u001b[1;32m      5\u001b[0m \u001b[0mjson_obj\u001b[0m\u001b[0;34m\u001b[0m\u001b[0;34m\u001b[0m\u001b[0m\n",
            "\u001b[0;32m/usr/lib/python3.10/json/__init__.py\u001b[0m in \u001b[0;36mloads\u001b[0;34m(s, cls, object_hook, parse_float, parse_int, parse_constant, object_pairs_hook, **kw)\u001b[0m\n\u001b[1;32m    344\u001b[0m             \u001b[0mparse_int\u001b[0m \u001b[0;32mis\u001b[0m \u001b[0;32mNone\u001b[0m \u001b[0;32mand\u001b[0m \u001b[0mparse_float\u001b[0m \u001b[0;32mis\u001b[0m \u001b[0;32mNone\u001b[0m \u001b[0;32mand\u001b[0m\u001b[0;34m\u001b[0m\u001b[0;34m\u001b[0m\u001b[0m\n\u001b[1;32m    345\u001b[0m             parse_constant is None and object_pairs_hook is None and not kw):\n\u001b[0;32m--> 346\u001b[0;31m         \u001b[0;32mreturn\u001b[0m \u001b[0m_default_decoder\u001b[0m\u001b[0;34m.\u001b[0m\u001b[0mdecode\u001b[0m\u001b[0;34m(\u001b[0m\u001b[0ms\u001b[0m\u001b[0;34m)\u001b[0m\u001b[0;34m\u001b[0m\u001b[0;34m\u001b[0m\u001b[0m\n\u001b[0m\u001b[1;32m    347\u001b[0m     \u001b[0;32mif\u001b[0m \u001b[0mcls\u001b[0m \u001b[0;32mis\u001b[0m \u001b[0;32mNone\u001b[0m\u001b[0;34m:\u001b[0m\u001b[0;34m\u001b[0m\u001b[0;34m\u001b[0m\u001b[0m\n\u001b[1;32m    348\u001b[0m         \u001b[0mcls\u001b[0m \u001b[0;34m=\u001b[0m \u001b[0mJSONDecoder\u001b[0m\u001b[0;34m\u001b[0m\u001b[0;34m\u001b[0m\u001b[0m\n",
            "\u001b[0;32m/usr/lib/python3.10/json/decoder.py\u001b[0m in \u001b[0;36mdecode\u001b[0;34m(self, s, _w)\u001b[0m\n\u001b[1;32m    338\u001b[0m         \u001b[0mend\u001b[0m \u001b[0;34m=\u001b[0m \u001b[0m_w\u001b[0m\u001b[0;34m(\u001b[0m\u001b[0ms\u001b[0m\u001b[0;34m,\u001b[0m \u001b[0mend\u001b[0m\u001b[0;34m)\u001b[0m\u001b[0;34m.\u001b[0m\u001b[0mend\u001b[0m\u001b[0;34m(\u001b[0m\u001b[0;34m)\u001b[0m\u001b[0;34m\u001b[0m\u001b[0;34m\u001b[0m\u001b[0m\n\u001b[1;32m    339\u001b[0m         \u001b[0;32mif\u001b[0m \u001b[0mend\u001b[0m \u001b[0;34m!=\u001b[0m \u001b[0mlen\u001b[0m\u001b[0;34m(\u001b[0m\u001b[0ms\u001b[0m\u001b[0;34m)\u001b[0m\u001b[0;34m:\u001b[0m\u001b[0;34m\u001b[0m\u001b[0;34m\u001b[0m\u001b[0m\n\u001b[0;32m--> 340\u001b[0;31m             \u001b[0;32mraise\u001b[0m \u001b[0mJSONDecodeError\u001b[0m\u001b[0;34m(\u001b[0m\u001b[0;34m\"Extra data\"\u001b[0m\u001b[0;34m,\u001b[0m \u001b[0ms\u001b[0m\u001b[0;34m,\u001b[0m \u001b[0mend\u001b[0m\u001b[0;34m)\u001b[0m\u001b[0;34m\u001b[0m\u001b[0;34m\u001b[0m\u001b[0m\n\u001b[0m\u001b[1;32m    341\u001b[0m         \u001b[0;32mreturn\u001b[0m \u001b[0mobj\u001b[0m\u001b[0;34m\u001b[0m\u001b[0;34m\u001b[0m\u001b[0m\n\u001b[1;32m    342\u001b[0m \u001b[0;34m\u001b[0m\u001b[0m\n",
            "\u001b[0;31mJSONDecodeError\u001b[0m: Extra data: line 6 column 2 (char 129)"
          ]
        }
      ]
    },
    {
      "cell_type": "code",
      "source": [],
      "metadata": {
        "id": "JbsLO7g3CIhU"
      },
      "execution_count": null,
      "outputs": []
    }
  ]
}