{
  "nbformat": 4,
  "nbformat_minor": 0,
  "metadata": {
    "colab": {
      "provenance": []
    },
    "kernelspec": {
      "name": "python3",
      "display_name": "Python 3"
    },
    "language_info": {
      "name": "python"
    }
  },
  "cells": [
    {
      "cell_type": "code",
      "source": [
        "!pip install openai"
      ],
      "metadata": {
        "colab": {
          "base_uri": "https://localhost:8080/"
        },
        "id": "NTq9vafz9gUQ",
        "outputId": "da043dca-7fbc-4e6b-9434-a6df8eda1660"
      },
      "execution_count": 1,
      "outputs": [
        {
          "output_type": "stream",
          "name": "stdout",
          "text": [
            "Requirement already satisfied: openai in /usr/local/lib/python3.10/dist-packages (0.27.8)\n",
            "Requirement already satisfied: requests>=2.20 in /usr/local/lib/python3.10/dist-packages (from openai) (2.31.0)\n",
            "Requirement already satisfied: tqdm in /usr/local/lib/python3.10/dist-packages (from openai) (4.66.1)\n",
            "Requirement already satisfied: aiohttp in /usr/local/lib/python3.10/dist-packages (from openai) (3.8.5)\n",
            "Requirement already satisfied: charset-normalizer<4,>=2 in /usr/local/lib/python3.10/dist-packages (from requests>=2.20->openai) (3.2.0)\n",
            "Requirement already satisfied: idna<4,>=2.5 in /usr/local/lib/python3.10/dist-packages (from requests>=2.20->openai) (3.4)\n",
            "Requirement already satisfied: urllib3<3,>=1.21.1 in /usr/local/lib/python3.10/dist-packages (from requests>=2.20->openai) (2.0.4)\n",
            "Requirement already satisfied: certifi>=2017.4.17 in /usr/local/lib/python3.10/dist-packages (from requests>=2.20->openai) (2023.7.22)\n",
            "Requirement already satisfied: attrs>=17.3.0 in /usr/local/lib/python3.10/dist-packages (from aiohttp->openai) (23.1.0)\n",
            "Requirement already satisfied: multidict<7.0,>=4.5 in /usr/local/lib/python3.10/dist-packages (from aiohttp->openai) (6.0.4)\n",
            "Requirement already satisfied: async-timeout<5.0,>=4.0.0a3 in /usr/local/lib/python3.10/dist-packages (from aiohttp->openai) (4.0.3)\n",
            "Requirement already satisfied: yarl<2.0,>=1.0 in /usr/local/lib/python3.10/dist-packages (from aiohttp->openai) (1.9.2)\n",
            "Requirement already satisfied: frozenlist>=1.1.1 in /usr/local/lib/python3.10/dist-packages (from aiohttp->openai) (1.4.0)\n",
            "Requirement already satisfied: aiosignal>=1.1.2 in /usr/local/lib/python3.10/dist-packages (from aiohttp->openai) (1.3.1)\n"
          ]
        }
      ]
    },
    {
      "cell_type": "code",
      "source": [
        "import openai\n",
        "import os\n",
        "from getpass import getpass"
      ],
      "metadata": {
        "id": "UG4-Q69x9pHS"
      },
      "execution_count": 3,
      "outputs": []
    },
    {
      "cell_type": "code",
      "source": [
        "OPENAI_API_KEY = getpass()\n",
        "os.getenv(OPENAI_API_KEY)\n",
        "openai.api_key = OPENAI_API_KEY"
      ],
      "metadata": {
        "colab": {
          "base_uri": "https://localhost:8080/"
        },
        "id": "JqsHYMP3AEy-",
        "outputId": "5a22524a-8429-4bb9-cd98-5831204aceb6"
      },
      "execution_count": 7,
      "outputs": [
        {
          "name": "stdout",
          "output_type": "stream",
          "text": [
            "··········\n"
          ]
        }
      ]
    },
    {
      "cell_type": "code",
      "source": [
        "promptMCQ = \"\"\"\n",
        "You are an experienced Science Teacher for grade-7 who has expertise in creating test papers that are suitable for grade-7 kids.\n",
        "For the Science subject create multiple choice questions such that each question has 3 answer options out of which exactly 1 answer option is correct.\n",
        "Can you create 2 such multiple choice questions related to the topic Aliens.\n",
        "The multiple choice question answers should be a JSON string in the following format, as the examples provided below:\n",
        "topic: animal world\n",
        "{\"question\":\"Are snails bugs?\",\n",
        "     \"correct_answer\":\"No\",\n",
        "     \"incorrect_answer_1\":\"Yes\",\n",
        "     \"incorrect_answer_2\":\"Sometimes\"},\n",
        "\n",
        "    {\"question\":\"What is a mammal?\",\n",
        "     \"correct_answer\":\"animals that can breafeed their offspring\",\n",
        "     \"incorrect_answer_1\":\"animals living in water\",\n",
        "     \"incorrect_answer_2\":\"animals living on tree\"}\n",
        "\n",
        "Now, I'll give you user input for topic and n. Topic defines the subject for which you have to generate question and answers following the example json format provided above. n defines how many question-answer sets you need to create.\n",
        "\n",
        "User Input: {topic} {n}\n",
        "Answer4:\n",
        "\n",
        "\"\"\""
      ],
      "metadata": {
        "id": "oz1vgbYiZqAx"
      },
      "execution_count": 17,
      "outputs": []
    },
    {
      "cell_type": "code",
      "source": [
        "promptMCQ"
      ],
      "metadata": {
        "colab": {
          "base_uri": "https://localhost:8080/",
          "height": 110
        },
        "id": "MMgQGTTHbSEZ",
        "outputId": "2327a395-8497-47a4-e5e8-d16245ae6fbb"
      },
      "execution_count": 4,
      "outputs": [
        {
          "output_type": "execute_result",
          "data": {
            "text/plain": [
              "'\\nYou are an experienced Science Teacher for grade-7 who has expertise in creating test papers that are suitable for grade-7 kids. \\nFor the Science subject create multiple choice questions such that each question has 3 answer options out of which exactly 1 answer option is correct. \\nCan you create 2 such multiple choice questions related to the topic Aliens.\\nThe multiple choice question answers should be presented in JSON format, as the examples provided below:\\ntopic: animal world\\n{\"question\":\"Are snails bugs?\", \\n     \"correct_answer\":\"No\", \\n     \"incorrect_answer_1\":\"Yes\", \\n     \"incorrect_answer_2\":\"Sometimes\"},\\n    \\n    {\"question\":\"What is a mammal?\", \\n     \"correct_answer\":\"animals that can breafeed their offspring\", \\n     \"incorrect_answer_1\":\"animals living in water\", \\n     \"incorrect_answer_2\":\"animals living on tree\"}\\n\\nNow, I\\'ll give you user input for topic and n. Topic defines the subject for which you have to generate question and answers following the example json format provided above. n defines how many question-answer sets you need to create.\\n\\nUser Input: {topic} {n}\\nAnswer4:\\n\\n'"
            ],
            "application/vnd.google.colaboratory.intrinsic+json": {
              "type": "string"
            }
          },
          "metadata": {},
          "execution_count": 4
        }
      ]
    },
    {
      "cell_type": "code",
      "source": [
        "def quizGenerator(topic:str=\"Space aliens\", n:int=1):\n",
        "  #print(\"inside function: quizGenerator\")\n",
        "  user_request=\"\"\"\n",
        "You are an experienced Science Teacher for grade-7 who has expertise in creating test papers that are suitable for grade-7 kids.\n",
        "For the Science subject create multiple choice questions such that each question has 3 answer options out of which exactly 1 answer option is correct.\n",
        "Can you create multiple choice questions related to the topic {}. You need to create total {} sets of multiple choice question-answer sets.\n",
        "The multiple choice question answers should be a JSON string in the following format, as the example provided below:\n",
        "Example:\n",
        "User Input: topic='animal world', n=1\n",
        "Answer:\n",
        "{{\n",
        "\"question\":\"Are snails bugs?\",\n",
        "\"correct_answer\":\"No\",\n",
        "\"incorrect_answer_1\":\"Yes\",\n",
        "\"incorrect_answer_2\":\"Sometimes\"\n",
        "}}\n",
        "Now, I'll give you user input for topic and n. Topic defines the subject for which you have to generate question and answers following the example json format provided above. n defines how many question-answer sets you need to create.\n",
        "\n",
        "Answer2:\n",
        "\n",
        "\"\"\"\n",
        "  print(\"value of n passed in function call: \",n)\n",
        "  #print(topic)\n",
        "  #print(\"user_request: \",user_request)\n",
        "  #print(\"user_request printed already\")\n",
        "  prompt=user_request.format(topic, n)\n",
        "  #print(prompt)\n",
        "  return prompt"
      ],
      "metadata": {
        "id": "5lC5lBWdbi2I"
      },
      "execution_count": 5,
      "outputs": []
    },
    {
      "cell_type": "code",
      "source": [
        "topic1=\"sea birds\"\n",
        "topic2=\"whales\"\n",
        "topic3=\"brain of small children\"\n",
        "topic4=\"NY state governance\"\n",
        "topic5=\"Texas NSA Intelligence\"\n",
        "topic6=\"NewYork state finances\"\n",
        "response=openai.ChatCompletion.create(model=\"gpt-3.5-turbo\", messages=[{\"role\": \"user\", \"content\": quizGenerator(topic6, 1)}])\n",
        "actualResponse=response.choices[0].message.content"
      ],
      "metadata": {
        "colab": {
          "base_uri": "https://localhost:8080/"
        },
        "id": "TbB62uSXiDBP",
        "outputId": "cdb88d46-e537-4226-d1cb-707cf5994ff7"
      },
      "execution_count": 18,
      "outputs": [
        {
          "output_type": "stream",
          "name": "stdout",
          "text": [
            "value of n passed in function call:  1\n"
          ]
        }
      ]
    },
    {
      "cell_type": "code",
      "source": [
        "print(actualResponse)\n"
      ],
      "metadata": {
        "colab": {
          "base_uri": "https://localhost:8080/"
        },
        "id": "sIbgbm1niJuX",
        "outputId": "4953fdff-bb33-4ec3-8535-fbefde4c0249"
      },
      "execution_count": 19,
      "outputs": [
        {
          "output_type": "stream",
          "name": "stdout",
          "text": [
            "{\n",
            "  \"question\": \"What is the main source of revenue for the state of New York?\",\n",
            "  \"correct_answer\": \"Income taxes\",\n",
            "  \"incorrect_answer_1\": \"Sales taxes\",\n",
            "  \"incorrect_answer_2\": \"Property taxes\"\n",
            "}\n",
            "\n",
            "{\n",
            "  \"question\": \"How does the state of New York fund its transportation infrastructure?\",\n",
            "  \"correct_answer\": \"Through gasoline taxes and tolls\",\n",
            "  \"incorrect_answer_1\": \"Through federal grants\",\n",
            "  \"incorrect_answer_2\": \"Through income taxes\"\n",
            "}\n",
            "\n",
            "{\n",
            "  \"question\": \"What is the current state debt of New York?\",\n",
            "  \"correct_answer\": \"Approximately $70 billion\",\n",
            "  \"incorrect_answer_1\": \"Approximately $10 billion\",\n",
            "  \"incorrect_answer_2\": \"Approximately $100 billion\"\n",
            "}\n",
            "\n",
            "{\n",
            "  \"question\": \"How does the state of New York finance its public education system?\",\n",
            "  \"correct_answer\": \"Through a combination of state and local taxes\",\n",
            "  \"incorrect_answer_1\": \"Through federal grants\",\n",
            "  \"incorrect_answer_2\": \"Through private donations\"\n",
            "}\n",
            "\n",
            "{\n",
            "  \"question\": \"What is the largest source of state spending in New York?\",\n",
            "  \"correct_answer\": \"Healthcare\",\n",
            "  \"incorrect_answer_1\": \"Education\",\n",
            "  \"incorrect_answer_2\": \"Infrastructure\"\n",
            "}\n"
          ]
        }
      ]
    },
    {
      "cell_type": "code",
      "source": [
        "response=openai.ChatCompletion.create(model=\"gpt-3.5-turbo\", messages=[{\"role\": \"user\", \"content\": quizGenerator(\"NewYork state hiking trails\", 4)}])\n",
        "actualResponse=response.choices[0].message.content"
      ],
      "metadata": {
        "colab": {
          "base_uri": "https://localhost:8080/"
        },
        "id": "Qe4Ds_6Yi3Tt",
        "outputId": "b9f5dde9-b94f-4e95-e7b6-b5948077c674"
      },
      "execution_count": 8,
      "outputs": [
        {
          "output_type": "stream",
          "name": "stdout",
          "text": [
            "value of n passed in function call:  4\n"
          ]
        }
      ]
    },
    {
      "cell_type": "code",
      "source": [
        "print(actualResponse)\n"
      ],
      "metadata": {
        "colab": {
          "base_uri": "https://localhost:8080/"
        },
        "id": "HMxeJ5sxi7YZ",
        "outputId": "8581549b-9c3b-4375-e6d7-317582360f39"
      },
      "execution_count": 9,
      "outputs": [
        {
          "output_type": "stream",
          "name": "stdout",
          "text": [
            "{\n",
            "  \"question\": \"What is the highest peak in New York State?\", \n",
            "  \"correct_answer\": \"Mount Marcy\", \n",
            "  \"incorrect_answer_1\": \"Mount Washington\", \n",
            "  \"incorrect_answer_2\": \"Mount Adams\"\n",
            "}\n",
            "\n",
            "{\n",
            "  \"question\": \"Which park hosts the popular trail named Appalachian Trail?\", \n",
            "  \"correct_answer\": \"Harriman State Park\", \n",
            "  \"incorrect_answer_1\": \"Central Park\", \n",
            "  \"incorrect_answer_2\": \"Prospect Park\"\n",
            "}\n",
            "\n",
            "{\n",
            "  \"question\": \"Which trail is known for its beautiful waterfalls and gorges?\", \n",
            "  \"correct_answer\": \"Finger Lakes Trail\", \n",
            "  \"incorrect_answer_1\": \"Catskill Mountain Trails\", \n",
            "  \"incorrect_answer_2\": \"Northville-Placid Trail\"\n",
            "}\n",
            "\n",
            "{\n",
            "  \"question\": \"Which trail crosses the iconic Hudson River?\", \n",
            "  \"correct_answer\": \"Long Path Trail\", \n",
            "  \"incorrect_answer_1\": \"Taconic Crest Trail\", \n",
            "  \"incorrect_answer_2\": \"Adirondack High Peaks\"\n",
            "}\n"
          ]
        }
      ]
    }
  ]
}